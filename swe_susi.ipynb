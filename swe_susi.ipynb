{
 "cells": [
  {
   "attachments": {},
   "cell_type": "markdown",
   "metadata": {},
   "source": [
    "# SUSI sweRun\n",
    "This script runs Susi* for one or more than one sites in Sweden.\n",
    "It tryes to facilitate a form to get the parameters, collects the smhi weather data and storage the outputs in a centralized folder per site.\n",
    "\n",
    "Follow the link to susi ....\n",
    "get the general instructions from ...\n",
    "\n",
    "Alejandro G.\n",
    " /// I have to improve the description ///"
   ]
  },
  {
   "cell_type": "code",
   "execution_count": 9,
   "metadata": {},
   "outputs": [
    {
     "name": "stdout",
     "output_type": "stream",
     "text": [
      "SUSI is ready to run!\n"
     ]
    }
   ],
   "source": [
    "# Importing libraries\n",
    "# Local\n",
    "import scripts.param_import  as ipft # script to import from xls to dict\n",
    "\n",
    "# General\n",
    "import numpy as np\n",
    "import pandas as pd\n",
    "from datetime import datetime\n",
    "import configparser\n",
    "import argparse\n",
    "import matplotlib.pylab as plt\n",
    "import seaborn as sns\n",
    "import sys\n",
    "from scipy.interpolate import interp1d\n",
    "from scipy.optimize import curve_fit\n",
    "from scipy.misc import derivative\n",
    "from scipy.interpolate import InterpolatedUnivariateSpline as interS\n",
    "from scipy.sparse import  diags\n",
    "from scipy.sparse.linalg import  spsolve\n",
    "#----------------------------------------------------------------------------\n",
    "# Install non-standard packages\n",
    "# !pip install xlsxwriter\n",
    "# !pip install xlrd==1.2.0\n",
    "# !pip install pyproj\n",
    "# #--------------------------\n",
    "# !pip install netCDF4\n",
    "# !pip install datetime\n",
    "# !pip install xlrd --upgrade\n",
    "# !pip install dataframe_image\n",
    "# # --------------------------\n",
    "from pyproj import CRS, Transformer\n",
    "\n",
    "\n",
    "# Imports susi\n",
    "newpathsusi = 'susi_2022'\n",
    "if newpathsusi not in sys.path: sys.path.insert(0,newpathsusi)\n",
    "\n",
    "#swepath = 'inputs/sweden/param/'\n",
    "#if swepath not in sys.path: sys.path.insert(0,swepath)\n",
    "# -----------------------------------------------------------------------------\n",
    "from susi.susi_utils import read_FMI_weather\n",
    "from susi.susi_main import Susi\n",
    "from inputs.susi_para import get_susi_para\n",
    "\n",
    "#from inputs.susi_para_swe import get_susi_para\n",
    "#import scripts.import_param_from_table as ipft\n",
    "\n",
    "#exec(f\"from {data_files[site]['para']} import get_susi_para\")\n",
    "\n",
    "\n",
    "print (f\"SUSI is ready to run!\")"
   ]
  },
  {
   "attachments": {},
   "cell_type": "markdown",
   "metadata": {},
   "source": [
    "### Environment variables"
   ]
  },
  {
   "cell_type": "code",
   "execution_count": 4,
   "metadata": {},
   "outputs": [
    {
     "name": "stdout",
     "output_type": "stream",
     "text": [
      "Susi repository is already in yor computer\n",
      "SMHI collect repository is already in yor computer\n"
     ]
    }
   ],
   "source": [
    "# Git clone and environment var\n",
    "# gets the parameter xls file name (\"./parameters\"), default \"susi-param.xlsx\"\n",
    "# see structure in README.md\n",
    "\n",
    "# Folders and names\n",
    "\n",
    "# Name convention\n",
    "  # parameter file:   inputs/sweden/param/    susi_para_{site}.py\n",
    "  # weather file:     inputs/sweden/weather/  {site}_weather.csv\n",
    "  # motti file:       inputs/sweden/motti/    {site}_motti_lyr_0.xlsx\n",
    "\n",
    "param_file = \"inputs\\sweden\\parameters.xlsx\"\n",
    "\n",
    "sNames = [\"01_Bjdamm\", \"03_Korpis\", \"04_Fröjered\", \"05_SträRed\", \"06_Risabo\", \"07_Rothult\",     # 0 - 5\n",
    "                \"08_Ydreham\", \"09_Gröngöl\", \"11_Ökalix\", \"12_Ökalix\", \"13_Ökalix\",              # 6 - 10\n",
    "                \"14_Höglund\", \"15_Jörnmark\"]                                                    # 11 - 12\n",
    "\n",
    "\n",
    "# data_files ditrionary storages the \n",
    "    # motti refference for each site, please follow the names convention.\n",
    "data_files = {}\n",
    "\n",
    "for s in sNames:\n",
    "    key = 'swe_site_'+s\n",
    "    data_files[key] = {}\n",
    "    data_files[key]['para'] = f'susi_para_{s}'\n",
    "    data_files[key]['wFile'] = f'{s}_weather.csv'\n",
    "    data_files[key]['motti_lyr_0'] = f'{s}_motti_input_lyr_0.xlsx'\n",
    "    data_files[key]['motti_lyr_1'] = f'{s}_motti_input_lyr_0.xlsx'        # fake, just to fill the gap\n",
    "    data_files[key]['motti_lyr_2'] = f'{s}_motti_input_lyr_0.xlsx'        # fake, just to fill the gap\n",
    "\n",
    "# Repositories \n",
    "if not os.path.exists('susi_2022'): \n",
    "    !git clone https://github.com/annamarilauren/susi_2022\n",
    "else: print(\"Susi repository is already in yor computer\")\n",
    "\n",
    "if not os.path.exists('susi_SMHI'): \n",
    "    !git clone https://github.com/alejandrogandara/susi_SMHI\n",
    "else: print(\"SMHI collect repository is already in yor computer\")\n",
    "\n"
   ]
  },
  {
   "attachments": {},
   "cell_type": "markdown",
   "metadata": {},
   "source": [
    "### Default inputs"
   ]
  },
  {
   "cell_type": "code",
   "execution_count": 10,
   "metadata": {},
   "outputs": [
    {
     "name": "stdout",
     "output_type": "stream",
     "text": [
      "file does not exists\n"
     ]
    },
    {
     "ename": "KeyError",
     "evalue": "'swe'",
     "output_type": "error",
     "traceback": [
      "\u001b[1;31m---------------------------------------------------------------------------\u001b[0m",
      "\u001b[1;31mKeyError\u001b[0m                                  Traceback (most recent call last)",
      "Cell \u001b[1;32mIn[10], line 41\u001b[0m\n\u001b[0;32m     34\u001b[0m sfc \u001b[39m=\u001b[39m  np\u001b[39m.\u001b[39mones(n, dtype\u001b[39m=\u001b[39m\u001b[39mint\u001b[39m)\u001b[39m*\u001b[39m\u001b[39m3\u001b[39m                                                            \u001b[39m# site fertility class\u001b[39;00m\n\u001b[0;32m     37\u001b[0m \u001b[39m#ageSim['dominant'][int(n/2):] = 2.\u001b[39;00m\n\u001b[0;32m     38\u001b[0m \u001b[39m#ageSim[4:-4] = 2.\u001b[39;00m\n\u001b[1;32m---> 41\u001b[0m wpara, cpara, org_para, spara, outpara, photopara \u001b[39m=\u001b[39m get_susi_para(wlocation\u001b[39m=\u001b[39;49m\u001b[39m'\u001b[39;49m\u001b[39mswe\u001b[39;49m\u001b[39m'\u001b[39;49m, peat\u001b[39m=\u001b[39;49m\u001b[39m'\u001b[39;49m\u001b[39mswe\u001b[39;49m\u001b[39m'\u001b[39;49m, \n\u001b[0;32m     42\u001b[0m                                                                           folderName\u001b[39m=\u001b[39;49mfolderName, hdomSim\u001b[39m=\u001b[39;49m\u001b[39mNone\u001b[39;49;00m,  \n\u001b[0;32m     43\u001b[0m                                                                           ageSim\u001b[39m=\u001b[39;49mageSim, sarkaSim\u001b[39m=\u001b[39;49msarkaSim, sfc\u001b[39m=\u001b[39;49msfc, susiPath \u001b[39m=\u001b[39;49m inpath,\n\u001b[0;32m     44\u001b[0m                                                                           n\u001b[39m=\u001b[39;49mn)\n\u001b[0;32m     46\u001b[0m forc\u001b[39m=\u001b[39mread_FMI_weather(\u001b[39m0\u001b[39m, start_date, end_date, sourcefile\u001b[39m=\u001b[39minpath\u001b[39m+\u001b[39mwdata)\n",
      "File \u001b[1;32mo:\\projects\\forestProductivity\\git\\susi-swe\\susi_2022\\inputs\\susi_para.py:304\u001b[0m, in \u001b[0;36mget_susi_para\u001b[1;34m(wlocation, peat, photosite, folderName, hdomSim, volSim, ageSim, sarkaSim, sfc, susiPath, ddwest, ddeast, n, bd, peatN, peatP, peatK)\u001b[0m\n\u001b[0;32m    239\u001b[0m photopara \u001b[39m=\u001b[39m {\n\u001b[0;32m    240\u001b[0m           \u001b[39m'\u001b[39m\u001b[39mAll data\u001b[39m\u001b[39m'\u001b[39m:\n\u001b[0;32m    241\u001b[0m               {\u001b[39m'\u001b[39m\u001b[39mbeta\u001b[39m\u001b[39m'\u001b[39m:\u001b[39m0.513\u001b[39m,\n\u001b[1;32m   (...)\u001b[0m\n\u001b[0;32m    299\u001b[0m                },\n\u001b[0;32m    300\u001b[0m                        }\n\u001b[0;32m    301\u001b[0m \u001b[39m#----------- Arrange and make coherent------\u001b[39;00m\n\u001b[0;32m    302\u001b[0m \u001b[39m#cpara['lat']=wpara[wlocation]['lat']; cpara['lon']=wpara[wlocation]['lon']\u001b[39;00m\n\u001b[1;32m--> 304\u001b[0m o_w \u001b[39m=\u001b[39m wpara[wlocation] \u001b[39mif\u001b[39;00m wlocation \u001b[39mis\u001b[39;00m \u001b[39mnot\u001b[39;00m \u001b[39mNone\u001b[39;00m  \u001b[39melse\u001b[39;00m wpara \n\u001b[0;32m    305\u001b[0m o_s \u001b[39m=\u001b[39m spara[peat] \u001b[39mif\u001b[39;00m peat \u001b[39mis\u001b[39;00m \u001b[39mnot\u001b[39;00m \u001b[39mNone\u001b[39;00m \u001b[39melse\u001b[39;00m spara\n\u001b[0;32m    306\u001b[0m o_p \u001b[39m=\u001b[39m photopara[photosite] \u001b[39mif\u001b[39;00m photosite \u001b[39mis\u001b[39;00m \u001b[39mnot\u001b[39;00m \u001b[39mNone\u001b[39;00m \u001b[39melse\u001b[39;00m photopara  \n",
      "\u001b[1;31mKeyError\u001b[0m: 'swe'"
     ]
    }
   ],
   "source": [
    "folderName='outputs/'                                        # output folder\n",
    "inpath = 'inputs/sweden/weather/'\n",
    "mottipath = 'inputs/sweden/motti/'                                            # folder where weather files are\n",
    "mottifile = {'path':mottipath,\n",
    "              'dominant':{1: data_files[site]['motti_lyr_0']},\n",
    "              'subdominant':{0:data_files[site]['motti_lyr_2']},\n",
    "              'under':{0:data_files[site]['motti_lyr_2']}}\n",
    "\n",
    "graph_folder = 'outputs/graphs/'\n",
    "wdata = data_files[site]['wFile']\n",
    "# -------------------------------- UNTIL HERE\n",
    "# imports variables from table\n",
    "\n",
    "sarkaSim = 40.                                                                  # strip width, ie distance between ditches, m\n",
    "start_date = datetime(2011,1,1)\n",
    "end_date = datetime(2021,12,31)\n",
    "#sarkaSim = start_date = end_date = None\n",
    "\n",
    "vparam = ipft.getVariablesFromFile(param_file, site)  # AG, gets the parameter from the frist worksheet in xlsx\n",
    "\n",
    "#sarkaSim = vparam['sarkaSim']\n",
    "#start_date = vparam['start_date']\n",
    "#end_date = vparam['end_date']\n",
    "\n",
    "start_yr = start_date.year \n",
    "end_yr = end_date.year\n",
    "yrs = (end_date - start_date).days/365.25\n",
    "n = int(sarkaSim / 2)                                                           # number of computation nodes in the strip\n",
    "\n",
    "ageSim = {'dominant': 45.*np.ones(n),\n",
    "          'subdominant': 0*np.ones(n),\n",
    "          'under': 0*np.ones(n)}                                                         # age of the stand in each node\n",
    "\n",
    "sfc =  np.ones(n, dtype=int)*3                                                            # site fertility class\n",
    "\n",
    "\n",
    "#ageSim['dominant'][int(n/2):] = 2.\n",
    "#ageSim[4:-4] = 2.\n",
    "\n",
    "          \n",
    "wpara, cpara, org_para, spara, outpara, photopara = get_susi_para(wlocation='swe', peat='swe', \n",
    "                                                                          folderName=folderName, hdomSim=None,  \n",
    "                                                                          ageSim=ageSim, sarkaSim=sarkaSim, sfc=sfc, susiPath = inpath,\n",
    "                                                                          n=n)\n",
    "\n",
    "forc=read_FMI_weather(0, start_date, end_date, sourcefile=inpath+wdata)           # read weather input\n",
    "\n",
    "#spara['canopylayers']['dominant'][int(n/2):] = 2                                                                        \n",
    "#spara['canopylayers']['subdominant'][:int(n/2)] = 1                                                                        \n"
   ]
  },
  {
   "attachments": {},
   "cell_type": "markdown",
   "metadata": {},
   "source": [
    "### Which site are you running?"
   ]
  },
  {
   "cell_type": "code",
   "execution_count": null,
   "metadata": {},
   "outputs": [],
   "source": []
  },
  {
   "cell_type": "code",
   "execution_count": 7,
   "metadata": {},
   "outputs": [
    {
     "data": {
      "text/plain": [
       "'swe_site_05_SträRed'"
      ]
     },
     "execution_count": 7,
     "metadata": {},
     "output_type": "execute_result"
    }
   ],
   "source": [
    "siteID = 3\n",
    "site = list(data_files.keys())[siteID]\n",
    "site"
   ]
  },
  {
   "cell_type": "code",
   "execution_count": null,
   "metadata": {},
   "outputs": [],
   "source": [
    "\n",
    "\n"
   ]
  },
  {
   "cell_type": "code",
   "execution_count": null,
   "metadata": {},
   "outputs": [],
   "source": []
  },
  {
   "cell_type": "code",
   "execution_count": null,
   "metadata": {},
   "outputs": [],
   "source": []
  }
 ],
 "metadata": {
  "kernelspec": {
   "display_name": "susiPy",
   "language": "python",
   "name": "python3"
  },
  "language_info": {
   "codemirror_mode": {
    "name": "ipython",
    "version": 3
   },
   "file_extension": ".py",
   "mimetype": "text/x-python",
   "name": "python",
   "nbconvert_exporter": "python",
   "pygments_lexer": "ipython3",
   "version": "3.9.15"
  },
  "orig_nbformat": 4,
  "vscode": {
   "interpreter": {
    "hash": "9fe985997dd68e87deeb69f61c940322182e4b1e5c773bcc06acfaade5f6f127"
   }
  }
 },
 "nbformat": 4,
 "nbformat_minor": 2
}
